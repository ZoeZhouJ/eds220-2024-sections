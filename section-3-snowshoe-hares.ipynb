{
 "cells": [
  {
   "cell_type": "markdown",
   "id": "a889436f-15ec-42a9-b619-d2364f7e5bde",
   "metadata": {},
   "source": [
    "### Archive exploration\n",
    "Brief Description \n",
    "- data is about: Snowshoe hare physical data in Bonanza Creek Experimental Forest\n",
    "- collection time frame: 1999-06-01 to 2012-09-14\n",
    "- sensitive data\n",
    "- associated publication\n",
    "- citation\n",
    "- date of access\n",
    "- link to archive\n",
    "![Snowshoe hare](https://upload.wikimedia.org/wikipedia/commons/thumb/8/8a/SNOWSHOE_HARE_%28Lepus_americanus%29_%285-28-2015%29_quoddy_head%2C_washington_co%2C_maine_-01_%2818988734889%29.jpg/1452px-SNOWSHOE_HARE_%28Lepus_americanus%29_%285-28-2015%29_quoddy_head%2C_washington_co%2C_maine_-01_%2818988734889%29.jpg?20170313021652)"
   ]
  },
  {
   "cell_type": "code",
   "execution_count": 1,
   "id": "0817fb74-4c4d-4af8-9bae-a6e1820909b6",
   "metadata": {
    "tags": []
   },
   "outputs": [],
   "source": [
    "import pandas as pd\n",
    "import numpy as np"
   ]
  },
  {
   "cell_type": "code",
   "execution_count": 2,
   "id": "b9f6987f-ae37-481e-bbf3-6c928ccd046e",
   "metadata": {
    "tags": []
   },
   "outputs": [],
   "source": [
    "# Read in data \n",
    "hare = pd.read_csv('https://portal.edirepository.org/nis/dataviewer?packageid=knb-lter-bnz.55.22&entityid=f01f5d71be949b8c700b6ecd1c42c701')"
   ]
  },
  {
   "cell_type": "code",
   "execution_count": 3,
   "id": "3dc56f6f-b0d5-48eb-824c-65fa609805bc",
   "metadata": {
    "tags": []
   },
   "outputs": [
    {
     "name": "stdout",
     "output_type": "stream",
     "text": [
      "<class 'pandas.core.frame.DataFrame'>\n",
      "RangeIndex: 3380 entries, 0 to 3379\n",
      "Data columns (total 14 columns):\n",
      " #   Column      Non-Null Count  Dtype  \n",
      "---  ------      --------------  -----  \n",
      " 0   date        3380 non-null   object \n",
      " 1   time        264 non-null    object \n",
      " 2   grid        3380 non-null   object \n",
      " 3   trap        3368 non-null   object \n",
      " 4   l_ear       3332 non-null   object \n",
      " 5   r_ear       3211 non-null   object \n",
      " 6   sex         3028 non-null   object \n",
      " 7   age         1269 non-null   object \n",
      " 8   weight      2845 non-null   float64\n",
      " 9   hindft      1633 non-null   float64\n",
      " 10  notes       243 non-null    object \n",
      " 11  b_key       3333 non-null   float64\n",
      " 12  session_id  3380 non-null   int64  \n",
      " 13  study       3217 non-null   object \n",
      "dtypes: float64(3), int64(1), object(10)\n",
      "memory usage: 369.8+ KB\n"
     ]
    }
   ],
   "source": [
    "hare.info()"
   ]
  },
  {
   "cell_type": "code",
   "execution_count": 4,
   "id": "628a54fd-b26b-4ca5-9837-9df61c5825e1",
   "metadata": {
    "tags": []
   },
   "outputs": [
    {
     "data": {
      "text/plain": [
       "Index(['date', 'time', 'grid', 'trap', 'l_ear', 'r_ear', 'sex', 'age',\n",
       "       'weight', 'hindft', 'notes', 'b_key', 'session_id', 'study'],\n",
       "      dtype='object')"
      ]
     },
     "execution_count": 4,
     "metadata": {},
     "output_type": "execute_result"
    }
   ],
   "source": [
    "hare.columns"
   ]
  },
  {
   "cell_type": "code",
   "execution_count": 5,
   "id": "27d82a64-3bd4-4187-9c45-c1f90fe5744d",
   "metadata": {
    "tags": []
   },
   "outputs": [
    {
     "data": {
      "text/html": [
       "<div>\n",
       "<style scoped>\n",
       "    .dataframe tbody tr th:only-of-type {\n",
       "        vertical-align: middle;\n",
       "    }\n",
       "\n",
       "    .dataframe tbody tr th {\n",
       "        vertical-align: top;\n",
       "    }\n",
       "\n",
       "    .dataframe thead th {\n",
       "        text-align: right;\n",
       "    }\n",
       "</style>\n",
       "<table border=\"1\" class=\"dataframe\">\n",
       "  <thead>\n",
       "    <tr style=\"text-align: right;\">\n",
       "      <th></th>\n",
       "      <th>date</th>\n",
       "      <th>time</th>\n",
       "      <th>grid</th>\n",
       "      <th>trap</th>\n",
       "      <th>l_ear</th>\n",
       "      <th>r_ear</th>\n",
       "      <th>sex</th>\n",
       "      <th>age</th>\n",
       "      <th>weight</th>\n",
       "      <th>hindft</th>\n",
       "      <th>notes</th>\n",
       "      <th>b_key</th>\n",
       "      <th>session_id</th>\n",
       "      <th>study</th>\n",
       "    </tr>\n",
       "  </thead>\n",
       "  <tbody>\n",
       "    <tr>\n",
       "      <th>0</th>\n",
       "      <td>11/26/1998</td>\n",
       "      <td>NaN</td>\n",
       "      <td>bonrip</td>\n",
       "      <td>1A</td>\n",
       "      <td>414D096A08</td>\n",
       "      <td>NaN</td>\n",
       "      <td>NaN</td>\n",
       "      <td>NaN</td>\n",
       "      <td>1370.0</td>\n",
       "      <td>160.0</td>\n",
       "      <td>NaN</td>\n",
       "      <td>917.0</td>\n",
       "      <td>51</td>\n",
       "      <td>Population</td>\n",
       "    </tr>\n",
       "    <tr>\n",
       "      <th>1</th>\n",
       "      <td>11/26/1998</td>\n",
       "      <td>NaN</td>\n",
       "      <td>bonrip</td>\n",
       "      <td>2C</td>\n",
       "      <td>414D320671</td>\n",
       "      <td>NaN</td>\n",
       "      <td>M</td>\n",
       "      <td>NaN</td>\n",
       "      <td>1430.0</td>\n",
       "      <td>NaN</td>\n",
       "      <td>NaN</td>\n",
       "      <td>936.0</td>\n",
       "      <td>51</td>\n",
       "      <td>Population</td>\n",
       "    </tr>\n",
       "    <tr>\n",
       "      <th>2</th>\n",
       "      <td>11/26/1998</td>\n",
       "      <td>NaN</td>\n",
       "      <td>bonrip</td>\n",
       "      <td>2D</td>\n",
       "      <td>414D103E3A</td>\n",
       "      <td>NaN</td>\n",
       "      <td>M</td>\n",
       "      <td>NaN</td>\n",
       "      <td>1430.0</td>\n",
       "      <td>NaN</td>\n",
       "      <td>NaN</td>\n",
       "      <td>921.0</td>\n",
       "      <td>51</td>\n",
       "      <td>Population</td>\n",
       "    </tr>\n",
       "    <tr>\n",
       "      <th>3</th>\n",
       "      <td>11/26/1998</td>\n",
       "      <td>NaN</td>\n",
       "      <td>bonrip</td>\n",
       "      <td>2E</td>\n",
       "      <td>414D262D43</td>\n",
       "      <td>NaN</td>\n",
       "      <td>NaN</td>\n",
       "      <td>NaN</td>\n",
       "      <td>1490.0</td>\n",
       "      <td>135.0</td>\n",
       "      <td>NaN</td>\n",
       "      <td>931.0</td>\n",
       "      <td>51</td>\n",
       "      <td>Population</td>\n",
       "    </tr>\n",
       "    <tr>\n",
       "      <th>4</th>\n",
       "      <td>11/26/1998</td>\n",
       "      <td>NaN</td>\n",
       "      <td>bonrip</td>\n",
       "      <td>3B</td>\n",
       "      <td>414D2B4B58</td>\n",
       "      <td>NaN</td>\n",
       "      <td>NaN</td>\n",
       "      <td>NaN</td>\n",
       "      <td>1710.0</td>\n",
       "      <td>150.0</td>\n",
       "      <td>NaN</td>\n",
       "      <td>933.0</td>\n",
       "      <td>51</td>\n",
       "      <td>Population</td>\n",
       "    </tr>\n",
       "  </tbody>\n",
       "</table>\n",
       "</div>"
      ],
      "text/plain": [
       "         date time    grid trap       l_ear r_ear  sex  age  weight  hindft  \\\n",
       "0  11/26/1998  NaN  bonrip   1A  414D096A08   NaN  NaN  NaN  1370.0   160.0   \n",
       "1  11/26/1998  NaN  bonrip   2C  414D320671   NaN    M  NaN  1430.0     NaN   \n",
       "2  11/26/1998  NaN  bonrip   2D  414D103E3A   NaN    M  NaN  1430.0     NaN   \n",
       "3  11/26/1998  NaN  bonrip   2E  414D262D43   NaN  NaN  NaN  1490.0   135.0   \n",
       "4  11/26/1998  NaN  bonrip   3B  414D2B4B58   NaN  NaN  NaN  1710.0   150.0   \n",
       "\n",
       "  notes  b_key  session_id       study  \n",
       "0   NaN  917.0          51  Population  \n",
       "1   NaN  936.0          51  Population  \n",
       "2   NaN  921.0          51  Population  \n",
       "3   NaN  931.0          51  Population  \n",
       "4   NaN  933.0          51  Population  "
      ]
     },
     "execution_count": 5,
     "metadata": {},
     "output_type": "execute_result"
    }
   ],
   "source": [
    "hare.head()"
   ]
  },
  {
   "cell_type": "code",
   "execution_count": 6,
   "id": "f5a18523-3d1d-498a-a692-30b3bc8cbb1b",
   "metadata": {
    "tags": []
   },
   "outputs": [
    {
     "data": {
      "text/plain": [
       "array(['1A', '2C', '2D', '2E', '3B', '3D', '4A', '4B', '4C', '4E', '5A',\n",
       "       '5C', '5D', '5E', '10C', '1C', '1E', '2A', '2B', '3C', '3E', '5B',\n",
       "       '6A', '6B', '6C', '7B', '7C', '7E', '8A', '8B', '8E', '9A', '9D',\n",
       "       '1D', '6E', '7D', '8C', '8D', '9B', '3A', '10B', '1B', '7A', '9E',\n",
       "       '4D', '10A', '6D', '9C', '10D', '10E', '10b', '2a', '2b', '2d',\n",
       "       '3b', '4a', '4c', '4e', '5b', '6c', '7a', '7b', '7d', '7e', '8e',\n",
       "       '9a', '1b', '2c', '2e', '3c', '1e', '3e', '5d', '3d', '4d', '7c',\n",
       "       '8c', '10c', '1c', '1d', '9d', '5e', '6a', '8a', '8b', '6b', '10e',\n",
       "       '6e', nan, '4b', '5c', '9c', '10a', '5a', '9b', '9e', '6d', '1a',\n",
       "       '3a', '10d', '8d', '4f', '5f', '3f', '2f', '2g', '5g', '4g', '1g',\n",
       "       '7f', '6f', '6g', '3g', '4c ', '4e ', '1e ', '1b ', '2b ', '6b ',\n",
       "       '2c ', '5c ', '4b '], dtype=object)"
      ]
     },
     "execution_count": 6,
     "metadata": {},
     "output_type": "execute_result"
    }
   ],
   "source": [
    "# What are the unique values for some of the categorical columns?\n",
    "hare['trap'].unique()"
   ]
  },
  {
   "cell_type": "markdown",
   "id": "c6287a5e-1dd5-4df5-bc2f-b986f17e0acb",
   "metadata": {},
   "source": [
    "- What are the dimensions of the dataframe and what are the data types of the columns? Do the data types match what you would expect from each column?\n",
    "- Are there any columns that have a significant number of NA values?\n",
    "- What are the minimum and maximum values for the weight and hind feet measurements?\n"
   ]
  },
  {
   "cell_type": "code",
   "execution_count": null,
   "id": "53618326-7d6a-469b-8606-c3841ec68c97",
   "metadata": {},
   "outputs": [],
   "source": []
  },
  {
   "cell_type": "markdown",
   "id": "73f6ff61-72cf-4218-8fec-d91e38690bc6",
   "metadata": {},
   "source": [
    "## 4.Detecting messy values\n",
    "a. In the metadata section of the EDI repository, find which are the allowed values for the hares’ sex. Create a small table in a markdown cell showing the values and their definitions.\n",
    "\n",
    "| Allowed Value  |Description|\n",
    "| --- |---|\n",
    "| m | male|\n",
    "| f | female|\n",
    "| m?|male not confirmed|"
   ]
  },
  {
   "cell_type": "markdown",
   "id": "d8295392-fd03-4fda-9a98-f6a246285030",
   "metadata": {},
   "source": [
    "b. Get the number of times each unique sex non-NA value appears."
   ]
  },
  {
   "cell_type": "code",
   "execution_count": 21,
   "id": "70c822ef-9f78-436b-ac91-916cf8bc5a91",
   "metadata": {
    "tags": []
   },
   "outputs": [
    {
     "data": {
      "text/plain": [
       "12"
      ]
     },
     "execution_count": 21,
     "metadata": {},
     "output_type": "execute_result"
    }
   ],
   "source": [
    "# hare['sex'].unique().value_counts()\n",
    "\n",
    "hare['sex'].unique()\n",
    "hare['sex'].nunique()"
   ]
  },
  {
   "cell_type": "markdown",
   "id": "826478c0-d5e1-4b52-aa63-4131734722c7",
   "metadata": {},
   "source": [
    "c. Check the documentation of value_counts(). What is the purpose of the dropna parameter and what is its default value? Repeat step (a), this time adding the dropna=False parameter to value_counts()."
   ]
  },
  {
   "cell_type": "code",
   "execution_count": 19,
   "id": "82c92893-e443-47de-b2dd-52ce6c65d245",
   "metadata": {
    "tags": []
   },
   "outputs": [
    {
     "data": {
      "text/plain": [
       "F      1161\n",
       "M       730\n",
       "f       556\n",
       "m       515\n",
       "NaN     352\n",
       "?        40\n",
       "F?       10\n",
       "f         4\n",
       "m         4\n",
       "f?        3\n",
       "M?        2\n",
       "m?        2\n",
       "pf        1\n",
       "Name: sex, dtype: int64"
      ]
     },
     "execution_count": 19,
     "metadata": {},
     "output_type": "execute_result"
    }
   ],
   "source": [
    "hare['sex'].value_counts(dropna=False)"
   ]
  },
  {
   "cell_type": "markdown",
   "id": "dfbb859a-ed29-4f28-abb6-84784ca65e39",
   "metadata": {},
   "source": [
    "d.Discuss with your team the output of the unique value counts. In particular:\n",
    "\n",
    "- Do the values in the sex column correspond to the values declared in the metadata?\n",
    "- What could have been potential causes for multiple codes?\n",
    "- Are there seemingly repated values? If so, what could be the cause?\n",
    "\n",
    "### 5. Brainstorm\n",
    "\n",
    "Individually, write step-by-step instructions on how you would wrangle the hares data frame to clean the values in the sex column to have only two classes female and male. Which codes would you assign to each new class? Remember: It’s ok if you don’t know how to code each step - it’s more important to have an idea of what you would like to do.\n",
    "\n",
    "Discuss your step-by-step instructions with your team.\n",
    "\n",
    "The next exercise will guide you through cleaning the sex codes. There are many ways of doing this. The one presented here might not be the same way you thought about doing it - that’s ok! This one was designed to practice using the numpy.select() function.\n",
    "\n",
    "### 6. Clean values"
   ]
  },
  {
   "cell_type": "code",
   "execution_count": 25,
   "id": "2675bd5b-5f55-40e7-a5f0-ecb28ca97595",
   "metadata": {
    "tags": []
   },
   "outputs": [
    {
     "name": "stdout",
     "output_type": "stream",
     "text": [
      "0        nan\n",
      "1       male\n",
      "2       male\n",
      "3        nan\n",
      "4        nan\n",
      "        ... \n",
      "3375     nan\n",
      "3376     nan\n",
      "3377     nan\n",
      "3378     nan\n",
      "3379    male\n",
      "Name: sex_simple, Length: 3380, dtype: object\n"
     ]
    }
   ],
   "source": [
    "conditions = [hare['sex'].isin(['F','f','f ']),\n",
    "             hare['sex'].isin(['M','m','m '])]\n",
    "\n",
    "gender=['female','male']\n",
    "\n",
    "hare['sex_simple']=np.select(conditions, gender, default=np.nan)\n",
    "\n",
    "print(hare['sex_simple'])\n"
   ]
  },
  {
   "cell_type": "code",
   "execution_count": 26,
   "id": "29215338-b958-45f9-91e0-1e2216a4d5bc",
   "metadata": {
    "tags": []
   },
   "outputs": [
    {
     "data": {
      "text/plain": [
       "sex_simple\n",
       "female    1365.164792\n",
       "male      1349.935542\n",
       "nan       1193.364055\n",
       "Name: weight, dtype: float64"
      ]
     },
     "execution_count": 26,
     "metadata": {},
     "output_type": "execute_result"
    }
   ],
   "source": [
    "# calculate mean weight\n",
    "hare.groupby('sex_simple').weight.mean()"
   ]
  },
  {
   "cell_type": "code",
   "execution_count": 27,
   "id": "7e40c49b-d03d-4c37-b310-02b51c185e98",
   "metadata": {
    "tags": []
   },
   "outputs": [],
   "source": [
    "# 8. code cell\n",
    "conditions = [hare['sex'].isin(['F','f','f ']),\n",
    "             hare['sex'].isin(['M','m','m '])]\n",
    "\n",
    "gender=['female','male']\n",
    "\n",
    "hare['sex_simple']=np.select(conditions, gender, default=np.nan)\n"
   ]
  },
  {
   "cell_type": "code",
   "execution_count": null,
   "id": "1aadf12c-8741-43b3-a130-9ec3e1579f41",
   "metadata": {},
   "outputs": [],
   "source": []
  }
 ],
 "metadata": {
  "kernelspec": {
   "display_name": "Anaconda 3 (Base)",
   "language": "python",
   "name": "base"
  },
  "language_info": {
   "codemirror_mode": {
    "name": "ipython",
    "version": 3
   },
   "file_extension": ".py",
   "mimetype": "text/x-python",
   "name": "python",
   "nbconvert_exporter": "python",
   "pygments_lexer": "ipython3",
   "version": "3.9.13"
  }
 },
 "nbformat": 4,
 "nbformat_minor": 5
}
