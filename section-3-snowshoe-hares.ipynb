{
 "cells": [
  {
   "cell_type": "markdown",
   "id": "a889436f-15ec-42a9-b619-d2364f7e5bde",
   "metadata": {},
   "source": [
    "### Archive exploration\n",
    "Brief Description \n",
    "- data is about: Snowshoe hare physical data in Bonanza Creek Experimental Forest\n",
    "- collection time frame: 1999-06-01 to 2012-09-14\n",
    "- sensitive data\n",
    "- associated publication\n",
    "- citation\n",
    "- date of access\n",
    "- link to archive\n",
    "![Snowshoe hare](https://upload.wikimedia.org/wikipedia/commons/thumb/8/8a/SNOWSHOE_HARE_%28Lepus_americanus%29_%285-28-2015%29_quoddy_head%2C_washington_co%2C_maine_-01_%2818988734889%29.jpg/1452px-SNOWSHOE_HARE_%28Lepus_americanus%29_%285-28-2015%29_quoddy_head%2C_washington_co%2C_maine_-01_%2818988734889%29.jpg?20170313021652)"
   ]
  },
  {
   "cell_type": "code",
   "execution_count": null,
   "id": "0817fb74-4c4d-4af8-9bae-a6e1820909b6",
   "metadata": {},
   "outputs": [],
   "source": []
  }
 ],
 "metadata": {
  "kernelspec": {
   "display_name": "Anaconda 3 (Base)",
   "language": "python",
   "name": "base"
  },
  "language_info": {
   "codemirror_mode": {
    "name": "ipython",
    "version": 3
   },
   "file_extension": ".py",
   "mimetype": "text/x-python",
   "name": "python",
   "nbconvert_exporter": "python",
   "pygments_lexer": "ipython3",
   "version": "3.9.13"
  }
 },
 "nbformat": 4,
 "nbformat_minor": 5
}
