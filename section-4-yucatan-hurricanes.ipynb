{
 "cells": [
  {
   "cell_type": "code",
   "execution_count": 2,
   "id": "60e892b8-2328-481b-bda9-d4460123aa67",
   "metadata": {
    "tags": []
   },
   "outputs": [],
   "source": [
    "import pandas as pd\n",
    "import numpy as np\n",
    "import matplotlib.pyplot as plt"
   ]
  },
  {
   "cell_type": "markdown",
   "id": "4c56cf23-804f-492a-8aae-abeddcefdc6f",
   "metadata": {},
   "source": [
    "# Yucatan Peninsula Hurricanes\n",
    "week 4 - discussion section\n",
    "- Practice breaking down a question into accessible data wrangling steps\n",
    "- Choose appropriate packages and methods to carry out your analysis\n",
    "- Practice finding additional guidance online to carry out your data wrangling plans\n",
    "\n",
    "![Yucatan Peninsula](https://meds-eds-220.github.io/MEDS-eds-220-course/discussion-sections/images/hurricane-mitch.jpg)"
   ]
  },
  {
   "cell_type": "code",
   "execution_count": 3,
   "id": "ed0b0ed2-7482-4e3d-84ab-6cf91a1a2f6c",
   "metadata": {
    "tags": []
   },
   "outputs": [],
   "source": [
    "# Load data\n",
    "hurricane = pd.read_csv('https://portal.edirepository.org/nis/dataviewer?packageid=knb-lter-hfr.71.23&entityid=ab0fe2bf4f3ad850371ccb9c69d78469')"
   ]
  },
  {
   "cell_type": "markdown",
   "id": "e6894c21-ee98-45ee-9c30-1e3494bbbfdb",
   "metadata": {},
   "source": [
    "## brainstorm\n",
    "How many hurricanes with Saffir-Simpson category 5 have been registered and what was their duration? "
   ]
  },
  {
   "cell_type": "code",
   "execution_count": 4,
   "id": "01e744c8-1b5b-4f98-98dc-71cb1687e644",
   "metadata": {
    "tags": []
   },
   "outputs": [
    {
     "data": {
      "text/html": [
       "<div>\n",
       "<style scoped>\n",
       "    .dataframe tbody tr th:only-of-type {\n",
       "        vertical-align: middle;\n",
       "    }\n",
       "\n",
       "    .dataframe tbody tr th {\n",
       "        vertical-align: top;\n",
       "    }\n",
       "\n",
       "    .dataframe thead th {\n",
       "        text-align: right;\n",
       "    }\n",
       "</style>\n",
       "<table border=\"1\" class=\"dataframe\">\n",
       "  <thead>\n",
       "    <tr style=\"text-align: right;\">\n",
       "      <th></th>\n",
       "      <th>code</th>\n",
       "      <th>start.date</th>\n",
       "      <th>end.date</th>\n",
       "      <th>number</th>\n",
       "      <th>name</th>\n",
       "      <th>ss</th>\n",
       "      <th>track</th>\n",
       "      <th>rf.max</th>\n",
       "    </tr>\n",
       "  </thead>\n",
       "  <tbody>\n",
       "    <tr>\n",
       "      <th>0</th>\n",
       "      <td>Y1852</td>\n",
       "      <td>1852-10-07</td>\n",
       "      <td>1852-10-08</td>\n",
       "      <td>5</td>\n",
       "      <td>NaN</td>\n",
       "      <td>2</td>\n",
       "      <td>O</td>\n",
       "      <td>F1</td>\n",
       "    </tr>\n",
       "    <tr>\n",
       "      <th>1</th>\n",
       "      <td>Y1857</td>\n",
       "      <td>1857-09-28</td>\n",
       "      <td>1857-09-28</td>\n",
       "      <td>4</td>\n",
       "      <td>NaN</td>\n",
       "      <td>2</td>\n",
       "      <td>N</td>\n",
       "      <td>F1</td>\n",
       "    </tr>\n",
       "    <tr>\n",
       "      <th>2</th>\n",
       "      <td>Y1861</td>\n",
       "      <td>1861-08-17</td>\n",
       "      <td>1861-08-17</td>\n",
       "      <td>2</td>\n",
       "      <td>NaN</td>\n",
       "      <td>1</td>\n",
       "      <td>O</td>\n",
       "      <td>Nd</td>\n",
       "    </tr>\n",
       "    <tr>\n",
       "      <th>3</th>\n",
       "      <td>Y1864</td>\n",
       "      <td>1864-08-31</td>\n",
       "      <td>1864-08-31</td>\n",
       "      <td>3</td>\n",
       "      <td>NaN</td>\n",
       "      <td>1</td>\n",
       "      <td>S</td>\n",
       "      <td>F1</td>\n",
       "    </tr>\n",
       "    <tr>\n",
       "      <th>4</th>\n",
       "      <td>Y1865</td>\n",
       "      <td>1865-09-11</td>\n",
       "      <td>1865-09-11</td>\n",
       "      <td>4</td>\n",
       "      <td>NaN</td>\n",
       "      <td>2</td>\n",
       "      <td>O</td>\n",
       "      <td>F1</td>\n",
       "    </tr>\n",
       "    <tr>\n",
       "      <th>...</th>\n",
       "      <td>...</td>\n",
       "      <td>...</td>\n",
       "      <td>...</td>\n",
       "      <td>...</td>\n",
       "      <td>...</td>\n",
       "      <td>...</td>\n",
       "      <td>...</td>\n",
       "      <td>...</td>\n",
       "    </tr>\n",
       "    <tr>\n",
       "      <th>100</th>\n",
       "      <td>Y1995a</td>\n",
       "      <td>1995-10-01</td>\n",
       "      <td>1995-10-03</td>\n",
       "      <td>15</td>\n",
       "      <td>Opal</td>\n",
       "      <td>1</td>\n",
       "      <td>N*</td>\n",
       "      <td>F0</td>\n",
       "    </tr>\n",
       "    <tr>\n",
       "      <th>101</th>\n",
       "      <td>Y1995b</td>\n",
       "      <td>1995-10-10</td>\n",
       "      <td>1995-10-16</td>\n",
       "      <td>17</td>\n",
       "      <td>Roxanne</td>\n",
       "      <td>3</td>\n",
       "      <td>N</td>\n",
       "      <td>F2</td>\n",
       "    </tr>\n",
       "    <tr>\n",
       "      <th>102</th>\n",
       "      <td>Y1996</td>\n",
       "      <td>1996-08-20</td>\n",
       "      <td>1996-08-20</td>\n",
       "      <td>4</td>\n",
       "      <td>Dolly</td>\n",
       "      <td>1</td>\n",
       "      <td>N</td>\n",
       "      <td>F1</td>\n",
       "    </tr>\n",
       "    <tr>\n",
       "      <th>103</th>\n",
       "      <td>Y1998</td>\n",
       "      <td>1998-10-27</td>\n",
       "      <td>1998-10-28</td>\n",
       "      <td>13</td>\n",
       "      <td>Mitch</td>\n",
       "      <td>5</td>\n",
       "      <td>S</td>\n",
       "      <td>F1</td>\n",
       "    </tr>\n",
       "    <tr>\n",
       "      <th>104</th>\n",
       "      <td>Y2000</td>\n",
       "      <td>2000-10-01</td>\n",
       "      <td>2000-10-03</td>\n",
       "      <td>15</td>\n",
       "      <td>Keith</td>\n",
       "      <td>4</td>\n",
       "      <td>S</td>\n",
       "      <td>F2</td>\n",
       "    </tr>\n",
       "  </tbody>\n",
       "</table>\n",
       "<p>105 rows × 8 columns</p>\n",
       "</div>"
      ],
      "text/plain": [
       "       code  start.date    end.date  number     name  ss track rf.max\n",
       "0     Y1852  1852-10-07  1852-10-08       5      NaN   2     O     F1\n",
       "1     Y1857  1857-09-28  1857-09-28       4      NaN   2     N     F1\n",
       "2     Y1861  1861-08-17  1861-08-17       2      NaN   1     O     Nd\n",
       "3     Y1864  1864-08-31  1864-08-31       3      NaN   1     S     F1\n",
       "4     Y1865  1865-09-11  1865-09-11       4      NaN   2     O     F1\n",
       "..      ...         ...         ...     ...      ...  ..   ...    ...\n",
       "100  Y1995a  1995-10-01  1995-10-03      15     Opal   1    N*     F0\n",
       "101  Y1995b  1995-10-10  1995-10-16      17  Roxanne   3     N     F2\n",
       "102   Y1996  1996-08-20  1996-08-20       4    Dolly   1     N     F1\n",
       "103   Y1998  1998-10-27  1998-10-28      13    Mitch   5     S     F1\n",
       "104   Y2000  2000-10-01  2000-10-03      15    Keith   4     S     F2\n",
       "\n",
       "[105 rows x 8 columns]"
      ]
     },
     "execution_count": 4,
     "metadata": {},
     "output_type": "execute_result"
    }
   ],
   "source": [
    "hurricane.dtypes\n",
    "hurricane"
   ]
  },
  {
   "cell_type": "code",
   "execution_count": 5,
   "id": "ed16eaea-a785-496d-85d3-69b6809301a7",
   "metadata": {
    "tags": []
   },
   "outputs": [
    {
     "data": {
      "text/plain": [
       "0     1852-10-08\n",
       "1     1857-09-28\n",
       "2     1861-08-17\n",
       "3     1864-08-31\n",
       "4     1865-09-11\n",
       "         ...    \n",
       "100   1995-10-03\n",
       "101   1995-10-16\n",
       "102   1996-08-20\n",
       "103   1998-10-28\n",
       "104   2000-10-03\n",
       "Name: end.date, Length: 105, dtype: datetime64[ns]"
      ]
     },
     "execution_count": 5,
     "metadata": {},
     "output_type": "execute_result"
    }
   ],
   "source": [
    "# Converst DATE column to timestamps\n",
    "pd.to_datetime(hurricane['start.date'])\n",
    "pd.to_datetime(hurricane['end.date'])"
   ]
  },
  {
   "cell_type": "code",
   "execution_count": 6,
   "id": "e206b8b8-0746-4c00-b364-3c70755d7c7c",
   "metadata": {
    "tags": []
   },
   "outputs": [],
   "source": [
    "# select category 5 class\n",
    "hurricane_5 = hurricane[hurricane['ss'] == 5].copy()\n"
   ]
  },
  {
   "cell_type": "code",
   "execution_count": 7,
   "id": "486bbb97-3e62-4f7b-ada6-767b0fda647b",
   "metadata": {
    "tags": []
   },
   "outputs": [
    {
     "data": {
      "text/html": [
       "<div>\n",
       "<style scoped>\n",
       "    .dataframe tbody tr th:only-of-type {\n",
       "        vertical-align: middle;\n",
       "    }\n",
       "\n",
       "    .dataframe tbody tr th {\n",
       "        vertical-align: top;\n",
       "    }\n",
       "\n",
       "    .dataframe thead th {\n",
       "        text-align: right;\n",
       "    }\n",
       "</style>\n",
       "<table border=\"1\" class=\"dataframe\">\n",
       "  <thead>\n",
       "    <tr style=\"text-align: right;\">\n",
       "      <th></th>\n",
       "      <th>code</th>\n",
       "      <th>start.date</th>\n",
       "      <th>end.date</th>\n",
       "      <th>number</th>\n",
       "      <th>name</th>\n",
       "      <th>ss</th>\n",
       "      <th>track</th>\n",
       "      <th>rf.max</th>\n",
       "    </tr>\n",
       "  </thead>\n",
       "  <tbody>\n",
       "    <tr>\n",
       "      <th>76</th>\n",
       "      <td>Y1955b</td>\n",
       "      <td>1955-09-28</td>\n",
       "      <td>1955-09-28</td>\n",
       "      <td>10</td>\n",
       "      <td>Janet</td>\n",
       "      <td>5</td>\n",
       "      <td>N</td>\n",
       "      <td>F3</td>\n",
       "    </tr>\n",
       "    <tr>\n",
       "      <th>96</th>\n",
       "      <td>Y1980a</td>\n",
       "      <td>1980-08-07</td>\n",
       "      <td>1980-08-08</td>\n",
       "      <td>1</td>\n",
       "      <td>Allen</td>\n",
       "      <td>5</td>\n",
       "      <td>O</td>\n",
       "      <td>F3</td>\n",
       "    </tr>\n",
       "    <tr>\n",
       "      <th>98</th>\n",
       "      <td>Y1988</td>\n",
       "      <td>1988-09-14</td>\n",
       "      <td>1988-09-15</td>\n",
       "      <td>8</td>\n",
       "      <td>Gilbert</td>\n",
       "      <td>5</td>\n",
       "      <td>N</td>\n",
       "      <td>F3</td>\n",
       "    </tr>\n",
       "    <tr>\n",
       "      <th>103</th>\n",
       "      <td>Y1998</td>\n",
       "      <td>1998-10-27</td>\n",
       "      <td>1998-10-28</td>\n",
       "      <td>13</td>\n",
       "      <td>Mitch</td>\n",
       "      <td>5</td>\n",
       "      <td>S</td>\n",
       "      <td>F1</td>\n",
       "    </tr>\n",
       "  </tbody>\n",
       "</table>\n",
       "</div>"
      ],
      "text/plain": [
       "       code  start.date    end.date  number     name  ss track rf.max\n",
       "76   Y1955b  1955-09-28  1955-09-28      10    Janet   5     N     F3\n",
       "96   Y1980a  1980-08-07  1980-08-08       1    Allen   5     O     F3\n",
       "98    Y1988  1988-09-14  1988-09-15       8  Gilbert   5     N     F3\n",
       "103   Y1998  1998-10-27  1998-10-28      13    Mitch   5     S     F1"
      ]
     },
     "execution_count": 7,
     "metadata": {},
     "output_type": "execute_result"
    }
   ],
   "source": [
    "hurricane_5"
   ]
  },
  {
   "cell_type": "code",
   "execution_count": 8,
   "id": "8cf22736-ec5f-4f87-b4bc-52e3a728209f",
   "metadata": {
    "tags": []
   },
   "outputs": [
    {
     "data": {
      "text/html": [
       "<div>\n",
       "<style scoped>\n",
       "    .dataframe tbody tr th:only-of-type {\n",
       "        vertical-align: middle;\n",
       "    }\n",
       "\n",
       "    .dataframe tbody tr th {\n",
       "        vertical-align: top;\n",
       "    }\n",
       "\n",
       "    .dataframe thead th {\n",
       "        text-align: right;\n",
       "    }\n",
       "</style>\n",
       "<table border=\"1\" class=\"dataframe\">\n",
       "  <thead>\n",
       "    <tr style=\"text-align: right;\">\n",
       "      <th></th>\n",
       "      <th>name</th>\n",
       "      <th>ss</th>\n",
       "      <th>duration</th>\n",
       "    </tr>\n",
       "  </thead>\n",
       "  <tbody>\n",
       "    <tr>\n",
       "      <th>76</th>\n",
       "      <td>Janet</td>\n",
       "      <td>5</td>\n",
       "      <td>0 days</td>\n",
       "    </tr>\n",
       "    <tr>\n",
       "      <th>96</th>\n",
       "      <td>Allen</td>\n",
       "      <td>5</td>\n",
       "      <td>1 days</td>\n",
       "    </tr>\n",
       "    <tr>\n",
       "      <th>98</th>\n",
       "      <td>Gilbert</td>\n",
       "      <td>5</td>\n",
       "      <td>1 days</td>\n",
       "    </tr>\n",
       "    <tr>\n",
       "      <th>103</th>\n",
       "      <td>Mitch</td>\n",
       "      <td>5</td>\n",
       "      <td>1 days</td>\n",
       "    </tr>\n",
       "  </tbody>\n",
       "</table>\n",
       "</div>"
      ],
      "text/plain": [
       "        name  ss duration\n",
       "76     Janet   5   0 days\n",
       "96     Allen   5   1 days\n",
       "98   Gilbert   5   1 days\n",
       "103    Mitch   5   1 days"
      ]
     },
     "execution_count": 8,
     "metadata": {},
     "output_type": "execute_result"
    }
   ],
   "source": [
    "(hurricane.loc[hurricane['ss']==5]\n",
    "     .assign(duration = pd.to_datetime(hurricane['end.date'])-pd.to_datetime(hurricane['start.date'])))[['name','ss','duration']]"
   ]
  },
  {
   "cell_type": "code",
   "execution_count": 9,
   "id": "3b49e81f-fb85-4a2d-aa95-8ee9502475ff",
   "metadata": {
    "tags": []
   },
   "outputs": [
    {
     "data": {
      "image/png": "[encoded data removed]",
      "text/plain": [
       "<Figure size 640x480 with 1 Axes>"
      ]
     },
     "metadata": {},
     "output_type": "display_data"
    }
   ],
   "source": [
    "plt.figure()\n",
    "plt.scatter(pd.to_datetime(hurricane['start.date']),hurricane['ss'])\n",
    "plt.title(\"start date versus SS\")\n",
    "plt.xlabel('Start date')\n",
    "plt.ylabel('Saffir scale')\n",
    "\n",
    "plt.yticks([1,2,3,4,5])\n",
    "plt.show()"
   ]
  },
  {
   "cell_type": "code",
   "execution_count": null,
   "id": "7d453161-ac8d-4fee-8382-8c627ec6b138",
   "metadata": {},
   "outputs": [],
   "source": []
  }
 ],
 "metadata": {
  "kernelspec": {
   "display_name": "Anaconda 3 (EDS220)",
   "language": "python",
   "name": "eds220-env"
  },
  "language_info": {
   "codemirror_mode": {
    "name": "ipython",
    "version": 3
   },
   "file_extension": ".py",
   "mimetype": "text/x-python",
   "name": "python",
   "nbconvert_exporter": "python",
   "pygments_lexer": "ipython3",
   "version": "3.11.4"
  }
 },
 "nbformat": 4,
 "nbformat_minor": 5
}
