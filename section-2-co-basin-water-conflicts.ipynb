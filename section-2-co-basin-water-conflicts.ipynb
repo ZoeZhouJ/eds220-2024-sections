{
 "cells": [
  {
   "cell_type": "markdown",
   "id": "75728c5a-af2f-4a58-828d-5d11c562f5c1",
   "metadata": {},
   "source": [
    "## 1. Archive exploration\n",
    "\n",
    "The dataset titled \"Coded Water Conflict and Crisis Events in the Colorado River Basin\" was collected to understand water-related conflicts in the region, with observations spanning from 2005 to 2021. It focuses on social vulnerability, institutional resilience, and conflict management regarding water resources. The data were gathered through a LexisNexis search and public meeting observations, extending previous datasets. The perceived value is in supporting research on water availability and conflict hotspots. Accessed in October 2024, it is available at USGS ScienceBase. [https://www.sciencebase.gov/catalog/item/63acac09d34e92aad3ca1480]\n"
   ]
  },
  {
   "cell_type": "code",
   "execution_count": null,
   "id": "f036378e-02de-4953-a834-b35ce7b8ff70",
   "metadata": {},
   "outputs": [],
   "source": []
  }
 ],
 "metadata": {
  "kernelspec": {
   "display_name": "Anaconda 3 (Base)",
   "language": "python",
   "name": "base"
  },
  "language_info": {
   "codemirror_mode": {
    "name": "ipython",
    "version": 3
   },
   "file_extension": ".py",
   "mimetype": "text/x-python",
   "name": "python",
   "nbconvert_exporter": "python",
   "pygments_lexer": "ipython3",
   "version": "3.9.13"
  }
 },
 "nbformat": 4,
 "nbformat_minor": 5
}
