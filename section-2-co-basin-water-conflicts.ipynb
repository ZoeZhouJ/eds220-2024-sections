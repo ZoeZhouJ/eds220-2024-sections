{
 "cells": [
  {
   "cell_type": "code",
   "execution_count": 23,
   "id": "f036378e-02de-4953-a834-b35ce7b8ff70",
   "metadata": {
    "tags": []
   },
   "outputs": [],
   "source": [
    "import pandas as pd\n",
    "import numpy as np"
   ]
  },
  {
   "cell_type": "markdown",
   "id": "75728c5a-af2f-4a58-828d-5d11c562f5c1",
   "metadata": {},
   "source": [
    "## 1. Archive exploration\n",
    "\n",
    "The dataset titled \"Coded Water Conflict and Crisis Events in the Colorado River Basin\" was collected to understand water-related conflicts in the region, with observations spanning from 2005 to 2021. It focuses on social vulnerability, institutional resilience, and conflict management regarding water resources. The data were gathered through a LexisNexis search and public meeting observations, extending previous datasets. The perceived value is in supporting research on water availability and conflict hotspots. Accessed in October 2024, it is available at USGS ScienceBase. [https://www.sciencebase.gov/catalog/item/63acac09d34e92aad3ca1480]\n",
    "\n",
    "## 2. Data loading\n"
   ]
  },
  {
   "cell_type": "code",
   "execution_count": 4,
   "id": "55f75a8f-ac6a-4834-8229-0bc11ec6ad93",
   "metadata": {
    "tags": []
   },
   "outputs": [],
   "source": [
    "df = pd.read_csv('data/Colorado River Basin Water Conflict Table.csv')"
   ]
  },
  {
   "cell_type": "markdown",
   "id": "f68c3451-d5a8-408b-a49b-70a594bc87ec",
   "metadata": {},
   "source": [
    "## 3. Preliminary data exploration"
   ]
  },
  {
   "cell_type": "code",
   "execution_count": 9,
   "id": "509a4ca1-aadc-4be3-a3d2-3db06bfcaa80",
   "metadata": {
    "tags": []
   },
   "outputs": [
    {
     "data": {
      "text/plain": [
       "Index(['Event', 'Search Source', 'Newspaper', 'Article Title', 'Duplicate',\n",
       "       'Report Date', 'Report Year', 'Event Date', 'Event Day', 'Event Month',\n",
       "       'Event Year', 'Conflict Present', 'Crisis Present', 'Basin', 'HUC6',\n",
       "       'HUC2', 'Place', 'County', 'County FIPS', 'State', 'State FIPS',\n",
       "       'Urban or Rural', 'Issue Type', 'Event Summary', 'Stakeholders',\n",
       "       'Intensity Value', 'Comments', 'Related Observation Themes',\n",
       "       'Article Text Search - water quality',\n",
       "       'Article Text Search - invasive species',\n",
       "       'Article Text Search - conservation', 'Article Text Search - drought',\n",
       "       'Article Text Search - flood',\n",
       "       'Article Text Search - ground water depletion',\n",
       "       'Article Text Search - depletion',\n",
       "       'Article Text Search - infrastructure',\n",
       "       'Article Text Search - fish passage',\n",
       "       'Article Text Search - instream water rights',\n",
       "       'Article Text Search - water rights',\n",
       "       'Article Text Search - intergovernmental',\n",
       "       'Article Text Search - water transfers',\n",
       "       'Article Text Search - navigation', 'Article Text Search - fish',\n",
       "       'Article Text Search - invasive', 'Article Text Search - diversion',\n",
       "       'Article Text Search - water diversion',\n",
       "       'Article Text Search - instream', 'Article Text Search - aquatic'],\n",
       "      dtype='object')"
      ]
     },
     "execution_count": 9,
     "metadata": {},
     "output_type": "execute_result"
    }
   ],
   "source": [
    "# set pandas to display all columns in the data frame.\n",
    "pd.set_option('display.max_columns', None)\n",
    "# check columns\n",
    "df.columns"
   ]
  },
  {
   "cell_type": "code",
   "execution_count": 12,
   "id": "2198aa2d-3321-4f4a-ba9e-8d329d594d66",
   "metadata": {
    "tags": []
   },
   "outputs": [
    {
     "data": {
      "text/plain": [
       "(268, 48)"
      ]
     },
     "execution_count": 12,
     "metadata": {},
     "output_type": "execute_result"
    }
   ],
   "source": [
    "# check shape\n",
    "df.shape"
   ]
  },
  {
   "cell_type": "code",
   "execution_count": 15,
   "id": "36e2a04a-6b97-447a-afe7-473db67eda6a",
   "metadata": {
    "tags": []
   },
   "outputs": [
    {
     "data": {
      "text/plain": [
       "Event                                             int64\n",
       "Search Source                                    object\n",
       "Newspaper                                        object\n",
       "Article Title                                    object\n",
       "Duplicate                                        object\n",
       "Report Date                                      object\n",
       "Report Year                                     float64\n",
       "Event Date                                       object\n",
       "Event Day                                       float64\n",
       "Event Month                                     float64\n",
       "Event Year                                      float64\n",
       "Conflict Present                                 object\n",
       "Crisis Present                                   object\n",
       "Basin                                            object\n",
       "HUC6                                             object\n",
       "HUC2                                             object\n",
       "Place                                            object\n",
       "County                                           object\n",
       "County FIPS                                     float64\n",
       "State                                            object\n",
       "State FIPS                                       object\n",
       "Urban or Rural                                   object\n",
       "Issue Type                                       object\n",
       "Event Summary                                    object\n",
       "Stakeholders                                     object\n",
       "Intensity Value                                 float64\n",
       "Comments                                         object\n",
       "Related Observation Themes                       object\n",
       "Article Text Search - water quality               int64\n",
       "Article Text Search - invasive species            int64\n",
       "Article Text Search - conservation                int64\n",
       "Article Text Search - drought                     int64\n",
       "Article Text Search - flood                       int64\n",
       "Article Text Search - ground water depletion      int64\n",
       "Article Text Search - depletion                   int64\n",
       "Article Text Search - infrastructure              int64\n",
       "Article Text Search - fish passage                int64\n",
       "Article Text Search - instream water rights       int64\n",
       "Article Text Search - water rights                int64\n",
       "Article Text Search - intergovernmental           int64\n",
       "Article Text Search - water transfers             int64\n",
       "Article Text Search - navigation                  int64\n",
       "Article Text Search - fish                        int64\n",
       "Article Text Search - invasive                    int64\n",
       "Article Text Search - diversion                   int64\n",
       "Article Text Search - water diversion             int64\n",
       "Article Text Search - instream                    int64\n",
       "Article Text Search - aquatic                     int64\n",
       "dtype: object"
      ]
     },
     "execution_count": 15,
     "metadata": {},
     "output_type": "execute_result"
    }
   ],
   "source": [
    "# check types\n",
    "df.dtypes"
   ]
  },
  {
   "cell_type": "code",
   "execution_count": 50,
   "id": "9f8a6b4b-92b3-4ece-bbd5-ae71028b9864",
   "metadata": {
    "tags": []
   },
   "outputs": [
    {
     "name": "stdout",
     "output_type": "stream",
     "text": [
      "<class 'pandas.core.frame.DataFrame'>\n",
      "RangeIndex: 268 entries, 0 to 267\n",
      "Data columns (total 48 columns):\n",
      " #   Column                                        Non-Null Count  Dtype  \n",
      "---  ------                                        --------------  -----  \n",
      " 0   Event                                         268 non-null    int64  \n",
      " 1   Search Source                                 268 non-null    object \n",
      " 2   Newspaper                                     268 non-null    object \n",
      " 3   Article Title                                 268 non-null    object \n",
      " 4   Duplicate                                     267 non-null    object \n",
      " 5   Report Date                                   267 non-null    object \n",
      " 6   Report Year                                   265 non-null    float64\n",
      " 7   Event Date                                    248 non-null    object \n",
      " 8   Event Day                                     18 non-null     float64\n",
      " 9   Event Month                                   212 non-null    float64\n",
      " 10  Event Year                                    257 non-null    float64\n",
      " 11  Conflict Present                              252 non-null    object \n",
      " 12  Crisis Present                                254 non-null    object \n",
      " 13  Basin                                         250 non-null    object \n",
      " 14  HUC6                                          110 non-null    object \n",
      " 15  HUC2                                          250 non-null    object \n",
      " 16  Place                                         254 non-null    object \n",
      " 17  County                                        8 non-null      object \n",
      " 18  County FIPS                                   8 non-null      float64\n",
      " 19  State                                         178 non-null    object \n",
      " 20  State FIPS                                    178 non-null    object \n",
      " 21  Urban or Rural                                254 non-null    object \n",
      " 22  Issue Type                                    255 non-null    object \n",
      " 23  Event Summary                                 256 non-null    object \n",
      " 24  Stakeholders                                  255 non-null    object \n",
      " 25  Intensity Value                               255 non-null    float64\n",
      " 26  Comments                                      190 non-null    object \n",
      " 27  Related Observation Themes                    86 non-null     object \n",
      " 28  Article Text Search - water quality           268 non-null    int64  \n",
      " 29  Article Text Search - invasive species        268 non-null    int64  \n",
      " 30  Article Text Search - conservation            268 non-null    int64  \n",
      " 31  Article Text Search - drought                 268 non-null    int64  \n",
      " 32  Article Text Search - flood                   268 non-null    int64  \n",
      " 33  Article Text Search - ground water depletion  268 non-null    int64  \n",
      " 34  Article Text Search - depletion               268 non-null    int64  \n",
      " 35  Article Text Search - infrastructure          268 non-null    int64  \n",
      " 36  Article Text Search - fish passage            268 non-null    int64  \n",
      " 37  Article Text Search - instream water rights   268 non-null    int64  \n",
      " 38  Article Text Search - water rights            268 non-null    int64  \n",
      " 39  Article Text Search - intergovernmental       268 non-null    int64  \n",
      " 40  Article Text Search - water transfers         268 non-null    int64  \n",
      " 41  Article Text Search - navigation              268 non-null    int64  \n",
      " 42  Article Text Search - fish                    268 non-null    int64  \n",
      " 43  Article Text Search - invasive                268 non-null    int64  \n",
      " 44  Article Text Search - diversion               268 non-null    int64  \n",
      " 45  Article Text Search - water diversion         268 non-null    int64  \n",
      " 46  Article Text Search - instream                268 non-null    int64  \n",
      " 47  Article Text Search - aquatic                 268 non-null    int64  \n",
      "dtypes: float64(6), int64(21), object(21)\n",
      "memory usage: 100.6+ KB\n"
     ]
    }
   ],
   "source": [
    "# check tails\n",
    "df.head()\n",
    "df.info()"
   ]
  },
  {
   "cell_type": "markdown",
   "id": "8dec1705-ca0f-4a47-99d3-ef9b9157396c",
   "metadata": {
    "tags": []
   },
   "source": [
    "## 5. String accessor for pandas.Series"
   ]
  },
  {
   "cell_type": "markdown",
   "id": "dbb88441-640c-4126-9340-002bd5aee0fd",
   "metadata": {
    "tags": []
   },
   "source": [
    "## 6. Examine state codes\n",
    "\n",
    "Our goal today is to find which states are reported in the dataset as having a water conflicts.\n",
    "\n",
    "What are the unique values in the States column? What could be a challenge to writing code to find which states are listed (without repetition)? Remember to write longer answers in mardown cells, not as comments."
   ]
  },
  {
   "cell_type": "code",
   "execution_count": null,
   "id": "7bce8349-4303-4fc3-8680-291cb4bc787e",
   "metadata": {
    "tags": []
   },
   "outputs": [],
   "source": []
  },
  {
   "cell_type": "markdown",
   "id": "1689d431-08be-44fe-8307-087e20abf2aa",
   "metadata": {
    "tags": []
   },
   "source": [
    "## 8. wangling "
   ]
  },
  {
   "cell_type": "code",
   "execution_count": 53,
   "id": "df63e1d2-811c-4ee5-b21a-0def5542fb7d",
   "metadata": {
    "tags": []
   },
   "outputs": [
    {
     "data": {
      "text/plain": [
       "array(['CO', 'UT', 'AZ', 'OH', ' UT', ' CO', ' NM', 'CA', ' NV', ' WY',\n",
       "       ' CA', ' AZ', 'NV', 'NM', 'WY', 'TX'], dtype=object)"
      ]
     },
     "execution_count": 53,
     "metadata": {},
     "output_type": "execute_result"
    }
   ],
   "source": [
    "# Select states column from df\n",
    "df['State']\n",
    "# Split the strings in the colu,mn by the delimeter ; into different columns\n",
    "df['State'].str.split(';', expand=True)\n",
    "# Stack the resultys of the resulting data frame in to a single pandas.Series\n",
    "df['State'].str.split(';', expand =True).stack()\n",
    "# find unique \n",
    "df['State'].str.split(';', expand =True).stack().unique()"
   ]
  },
  {
   "cell_type": "markdown",
   "id": "e5e23dbd-f1ac-4487-9423-33f162f6817a",
   "metadata": {
    "tags": []
   },
   "source": [
    "## 9. Find unique state codes"
   ]
  },
  {
   "cell_type": "code",
   "execution_count": 56,
   "id": "6b893ed0-bb2a-45f8-a7ee-082467d8d63c",
   "metadata": {
    "tags": []
   },
   "outputs": [
    {
     "data": {
      "text/plain": [
       "array(['CO', 'UT', 'AZ', 'OH', 'NM', 'CA', 'NV', 'WY', 'TX'], dtype=object)"
      ]
     },
     "execution_count": 56,
     "metadata": {},
     "output_type": "execute_result"
    }
   ],
   "source": [
    "# remove white spaces\n",
    "df['State'].str.split(';', expand =True).stack().str.strip()\n",
    "# find unique states\n",
    "df['State'].str.split(';', expand =True).stack().str.strip().unique()"
   ]
  },
  {
   "cell_type": "code",
   "execution_count": 58,
   "id": "5dd968e2-3691-47f3-a1f9-c9b299ebd1a3",
   "metadata": {
    "tags": []
   },
   "outputs": [
    {
     "data": {
      "text/plain": [
       "AZ    87\n",
       "CO    45\n",
       "UT    40\n",
       "NV    19\n",
       "CA    16\n",
       "NM    13\n",
       "WY     8\n",
       "OH     1\n",
       "TX     1\n",
       "dtype: int64"
      ]
     },
     "execution_count": 58,
     "metadata": {},
     "output_type": "execute_result"
    }
   ],
   "source": [
    "# bonus:  How many articles mention each state?\n",
    "df['State'].str.split(';', expand =True).stack().str.strip().value_counts()"
   ]
  },
  {
   "cell_type": "code",
   "execution_count": null,
   "id": "c0a04dfc-ff52-41b9-ad29-880fd3959cd3",
   "metadata": {},
   "outputs": [],
   "source": []
  }
 ],
 "metadata": {
  "kernelspec": {
   "display_name": "Anaconda 3 (Base)",
   "language": "python",
   "name": "base"
  },
  "language_info": {
   "codemirror_mode": {
    "name": "ipython",
    "version": 3
   },
   "file_extension": ".py",
   "mimetype": "text/x-python",
   "name": "python",
   "nbconvert_exporter": "python",
   "pygments_lexer": "ipython3",
   "version": "3.9.13"
  }
 },
 "nbformat": 4,
 "nbformat_minor": 5
}
